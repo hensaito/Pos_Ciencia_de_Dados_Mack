{
  "nbformat": 4,
  "nbformat_minor": 0,
  "metadata": {
    "colab": {
      "provenance": [],
      "include_colab_link": true
    },
    "kernelspec": {
      "name": "ir",
      "display_name": "R"
    },
    "language_info": {
      "name": "R"
    }
  },
  "cells": [
    {
      "cell_type": "markdown",
      "metadata": {
        "id": "view-in-github",
        "colab_type": "text"
      },
      "source": [
        "<a href=\"https://colab.research.google.com/github/hensaito/Pos_Ciencia_de_Dados_Mack/blob/main/Henrique_LP_T7.ipynb\" target=\"_parent\"><img src=\"https://colab.research.google.com/assets/colab-badge.svg\" alt=\"Open In Colab\"/></a>"
      ]
    },
    {
      "cell_type": "markdown",
      "metadata": {
        "id": "iubZQEb71EHd"
      },
      "source": [
        "<head>\n",
        "  <meta name=\"author\" content=\"Rogério de Oliveira\">\n",
        "  <meta institution=\"author\" content=\"Universidade Presbiteriana Mackenzie\">\n",
        "</head>\n",
        "\n",
        "<img src=\"http://meusite.mackenzie.br/rogerio/mackenzie_logo/UPM.2_horizontal_vermelho.jpg\" width=300, align=\"right\">\n",
        "\n",
        "<br>\n",
        "<br>\n",
        "\n",
        "<h1 align=left><font size = 8, style=\"color:rgb(200,0,0)\"><b>Ciência de Dados </b></font></h1>\n",
        "<h1 align=left><font size = 5, style=\"color:rgb(0,0,0)\"><b>Paradigmas de Linguagens de\n",
        "Programação para Ciência de Dados</b></font></h1>\n",
        "\n",
        "# Exercício T7\n",
        "\n",
        "<br>\n",
        "<br>\n",
        "\n",
        "---\n"
      ]
    },
    {
      "cell_type": "code",
      "source": [],
      "metadata": {
        "id": "6XAfE9eVX5j7"
      },
      "execution_count": null,
      "outputs": []
    },
    {
      "cell_type": "markdown",
      "source": [
        "# Analise dados sobre desenvolvimento\n",
        "\n",
        "\n",
        "\n",
        "<img src=\"https://www.gapminder.org/wp-content/themes/gapminder2/images/gapminder-logo.svg\" width=300>  \n",
        "\n"
      ],
      "metadata": {
        "id": "6AsPs0GIlyle"
      }
    },
    {
      "cell_type": "markdown",
      "source": [
        "Aqui você vai empregar uma base de dados da [gapminder](https://www.gapminder.org/) com informações de vários índices de desenvolvimento dos países ao longo do tempo. Empregue esses dados, e o que você aprendeu sobre `R` para implementar uma análise desses dados de desenvolvimento trazendo *insights* relevantes sobre esse tema, a exemplo do que você fez na atividade anterior em `Python`.\n",
        "\n"
      ],
      "metadata": {
        "id": "quJUK0Gsfp37"
      }
    },
    {
      "cell_type": "markdown",
      "source": [
        "Empregue a base `gapminder` a seguir e **implemente**:\n",
        "\n",
        "* **Ao menos duas visualizações de dados (gráficos)**\n",
        "\n",
        "que tragam *insights* valiosos e relevantes sobre o desenvolvimento dos países. **Para cada uma faça um pequeno parágrafo, 4-5 linhas, compartilhando sua análise e conclusões**."
      ],
      "metadata": {
        "id": "ty0Mr6RAiE9E"
      }
    },
    {
      "cell_type": "code",
      "source": [
        "# ESTE É UM NOTEBOOK EM R\n",
        "\n",
        "data = read.csv('https://github.com/Rogerio-mack/Visualizacao-de-Dados-em-Python/raw/main/data/Life_Expectancy_Data.csv')\n",
        "head(data)"
      ],
      "metadata": {
        "colab": {
          "base_uri": "https://localhost:8080/",
          "height": 306
        },
        "id": "W7I7v1ffexw1",
        "outputId": "048ec52c-db3b-42e3-fc2a-acd48c5bb461"
      },
      "execution_count": null,
      "outputs": [
        {
          "output_type": "display_data",
          "data": {
            "text/html": [
              "<table class=\"dataframe\">\n",
              "<caption>A data.frame: 6 × 22</caption>\n",
              "<thead>\n",
              "\t<tr><th></th><th scope=col>Country</th><th scope=col>Year</th><th scope=col>Status</th><th scope=col>Life.expectancy</th><th scope=col>Adult.Mortality</th><th scope=col>infant.deaths</th><th scope=col>Alcohol</th><th scope=col>percentage.expenditure</th><th scope=col>Hepatitis.B</th><th scope=col>Measles</th><th scope=col>⋯</th><th scope=col>Polio</th><th scope=col>Total.expenditure</th><th scope=col>Diphtheria</th><th scope=col>HIV.AIDS</th><th scope=col>GDP</th><th scope=col>Population</th><th scope=col>thinness..1.19.years</th><th scope=col>thinness.5.9.years</th><th scope=col>Income.composition.of.resources</th><th scope=col>Schooling</th></tr>\n",
              "\t<tr><th></th><th scope=col>&lt;chr&gt;</th><th scope=col>&lt;int&gt;</th><th scope=col>&lt;chr&gt;</th><th scope=col>&lt;dbl&gt;</th><th scope=col>&lt;dbl&gt;</th><th scope=col>&lt;int&gt;</th><th scope=col>&lt;dbl&gt;</th><th scope=col>&lt;dbl&gt;</th><th scope=col>&lt;dbl&gt;</th><th scope=col>&lt;int&gt;</th><th scope=col>⋯</th><th scope=col>&lt;dbl&gt;</th><th scope=col>&lt;dbl&gt;</th><th scope=col>&lt;dbl&gt;</th><th scope=col>&lt;dbl&gt;</th><th scope=col>&lt;dbl&gt;</th><th scope=col>&lt;dbl&gt;</th><th scope=col>&lt;dbl&gt;</th><th scope=col>&lt;dbl&gt;</th><th scope=col>&lt;dbl&gt;</th><th scope=col>&lt;dbl&gt;</th></tr>\n",
              "</thead>\n",
              "<tbody>\n",
              "\t<tr><th scope=row>1</th><td>Afghanistan</td><td>2015</td><td>Developing</td><td>65.0</td><td>263</td><td>62</td><td>0.01</td><td>71.279624</td><td>65</td><td>1154</td><td>⋯</td><td> 6</td><td>8.16</td><td>65</td><td>0.1</td><td>584.25921</td><td>33736494</td><td>17.2</td><td>17.3</td><td>0.479</td><td>10.1</td></tr>\n",
              "\t<tr><th scope=row>2</th><td>Afghanistan</td><td>2014</td><td>Developing</td><td>59.9</td><td>271</td><td>64</td><td>0.01</td><td>73.523582</td><td>62</td><td> 492</td><td>⋯</td><td>58</td><td>8.18</td><td>62</td><td>0.1</td><td>612.69651</td><td>  327582</td><td>17.5</td><td>17.5</td><td>0.476</td><td>10.0</td></tr>\n",
              "\t<tr><th scope=row>3</th><td>Afghanistan</td><td>2013</td><td>Developing</td><td>59.9</td><td>268</td><td>66</td><td>0.01</td><td>73.219243</td><td>64</td><td> 430</td><td>⋯</td><td>62</td><td>8.13</td><td>64</td><td>0.1</td><td>631.74498</td><td>31731688</td><td>17.7</td><td>17.7</td><td>0.470</td><td> 9.9</td></tr>\n",
              "\t<tr><th scope=row>4</th><td>Afghanistan</td><td>2012</td><td>Developing</td><td>59.5</td><td>272</td><td>69</td><td>0.01</td><td>78.184215</td><td>67</td><td>2787</td><td>⋯</td><td>67</td><td>8.52</td><td>67</td><td>0.1</td><td>669.95900</td><td> 3696958</td><td>17.9</td><td>18.0</td><td>0.463</td><td> 9.8</td></tr>\n",
              "\t<tr><th scope=row>5</th><td>Afghanistan</td><td>2011</td><td>Developing</td><td>59.2</td><td>275</td><td>71</td><td>0.01</td><td> 7.097109</td><td>68</td><td>3013</td><td>⋯</td><td>68</td><td>7.87</td><td>68</td><td>0.1</td><td> 63.53723</td><td> 2978599</td><td>18.2</td><td>18.2</td><td>0.454</td><td> 9.5</td></tr>\n",
              "\t<tr><th scope=row>6</th><td>Afghanistan</td><td>2010</td><td>Developing</td><td>58.8</td><td>279</td><td>74</td><td>0.01</td><td>79.679367</td><td>66</td><td>1989</td><td>⋯</td><td>66</td><td>9.20</td><td>66</td><td>0.1</td><td>553.32894</td><td> 2883167</td><td>18.4</td><td>18.4</td><td>0.448</td><td> 9.2</td></tr>\n",
              "</tbody>\n",
              "</table>\n"
            ],
            "text/markdown": "\nA data.frame: 6 × 22\n\n| <!--/--> | Country &lt;chr&gt; | Year &lt;int&gt; | Status &lt;chr&gt; | Life.expectancy &lt;dbl&gt; | Adult.Mortality &lt;dbl&gt; | infant.deaths &lt;int&gt; | Alcohol &lt;dbl&gt; | percentage.expenditure &lt;dbl&gt; | Hepatitis.B &lt;dbl&gt; | Measles &lt;int&gt; | ⋯ ⋯ | Polio &lt;dbl&gt; | Total.expenditure &lt;dbl&gt; | Diphtheria &lt;dbl&gt; | HIV.AIDS &lt;dbl&gt; | GDP &lt;dbl&gt; | Population &lt;dbl&gt; | thinness..1.19.years &lt;dbl&gt; | thinness.5.9.years &lt;dbl&gt; | Income.composition.of.resources &lt;dbl&gt; | Schooling &lt;dbl&gt; |\n|---|---|---|---|---|---|---|---|---|---|---|---|---|---|---|---|---|---|---|---|---|---|\n| 1 | Afghanistan | 2015 | Developing | 65.0 | 263 | 62 | 0.01 | 71.279624 | 65 | 1154 | ⋯ |  6 | 8.16 | 65 | 0.1 | 584.25921 | 33736494 | 17.2 | 17.3 | 0.479 | 10.1 |\n| 2 | Afghanistan | 2014 | Developing | 59.9 | 271 | 64 | 0.01 | 73.523582 | 62 |  492 | ⋯ | 58 | 8.18 | 62 | 0.1 | 612.69651 |   327582 | 17.5 | 17.5 | 0.476 | 10.0 |\n| 3 | Afghanistan | 2013 | Developing | 59.9 | 268 | 66 | 0.01 | 73.219243 | 64 |  430 | ⋯ | 62 | 8.13 | 64 | 0.1 | 631.74498 | 31731688 | 17.7 | 17.7 | 0.470 |  9.9 |\n| 4 | Afghanistan | 2012 | Developing | 59.5 | 272 | 69 | 0.01 | 78.184215 | 67 | 2787 | ⋯ | 67 | 8.52 | 67 | 0.1 | 669.95900 |  3696958 | 17.9 | 18.0 | 0.463 |  9.8 |\n| 5 | Afghanistan | 2011 | Developing | 59.2 | 275 | 71 | 0.01 |  7.097109 | 68 | 3013 | ⋯ | 68 | 7.87 | 68 | 0.1 |  63.53723 |  2978599 | 18.2 | 18.2 | 0.454 |  9.5 |\n| 6 | Afghanistan | 2010 | Developing | 58.8 | 279 | 74 | 0.01 | 79.679367 | 66 | 1989 | ⋯ | 66 | 9.20 | 66 | 0.1 | 553.32894 |  2883167 | 18.4 | 18.4 | 0.448 |  9.2 |\n\n",
            "text/latex": "A data.frame: 6 × 22\n\\begin{tabular}{r|lllllllllllllllllllll}\n  & Country & Year & Status & Life.expectancy & Adult.Mortality & infant.deaths & Alcohol & percentage.expenditure & Hepatitis.B & Measles & ⋯ & Polio & Total.expenditure & Diphtheria & HIV.AIDS & GDP & Population & thinness..1.19.years & thinness.5.9.years & Income.composition.of.resources & Schooling\\\\\n  & <chr> & <int> & <chr> & <dbl> & <dbl> & <int> & <dbl> & <dbl> & <dbl> & <int> & ⋯ & <dbl> & <dbl> & <dbl> & <dbl> & <dbl> & <dbl> & <dbl> & <dbl> & <dbl> & <dbl>\\\\\n\\hline\n\t1 & Afghanistan & 2015 & Developing & 65.0 & 263 & 62 & 0.01 & 71.279624 & 65 & 1154 & ⋯ &  6 & 8.16 & 65 & 0.1 & 584.25921 & 33736494 & 17.2 & 17.3 & 0.479 & 10.1\\\\\n\t2 & Afghanistan & 2014 & Developing & 59.9 & 271 & 64 & 0.01 & 73.523582 & 62 &  492 & ⋯ & 58 & 8.18 & 62 & 0.1 & 612.69651 &   327582 & 17.5 & 17.5 & 0.476 & 10.0\\\\\n\t3 & Afghanistan & 2013 & Developing & 59.9 & 268 & 66 & 0.01 & 73.219243 & 64 &  430 & ⋯ & 62 & 8.13 & 64 & 0.1 & 631.74498 & 31731688 & 17.7 & 17.7 & 0.470 &  9.9\\\\\n\t4 & Afghanistan & 2012 & Developing & 59.5 & 272 & 69 & 0.01 & 78.184215 & 67 & 2787 & ⋯ & 67 & 8.52 & 67 & 0.1 & 669.95900 &  3696958 & 17.9 & 18.0 & 0.463 &  9.8\\\\\n\t5 & Afghanistan & 2011 & Developing & 59.2 & 275 & 71 & 0.01 &  7.097109 & 68 & 3013 & ⋯ & 68 & 7.87 & 68 & 0.1 &  63.53723 &  2978599 & 18.2 & 18.2 & 0.454 &  9.5\\\\\n\t6 & Afghanistan & 2010 & Developing & 58.8 & 279 & 74 & 0.01 & 79.679367 & 66 & 1989 & ⋯ & 66 & 9.20 & 66 & 0.1 & 553.32894 &  2883167 & 18.4 & 18.4 & 0.448 &  9.2\\\\\n\\end{tabular}\n",
            "text/plain": [
              "  Country     Year Status     Life.expectancy Adult.Mortality infant.deaths\n",
              "1 Afghanistan 2015 Developing 65.0            263             62           \n",
              "2 Afghanistan 2014 Developing 59.9            271             64           \n",
              "3 Afghanistan 2013 Developing 59.9            268             66           \n",
              "4 Afghanistan 2012 Developing 59.5            272             69           \n",
              "5 Afghanistan 2011 Developing 59.2            275             71           \n",
              "6 Afghanistan 2010 Developing 58.8            279             74           \n",
              "  Alcohol percentage.expenditure Hepatitis.B Measles ⋯ Polio Total.expenditure\n",
              "1 0.01    71.279624              65          1154    ⋯  6    8.16             \n",
              "2 0.01    73.523582              62           492    ⋯ 58    8.18             \n",
              "3 0.01    73.219243              64           430    ⋯ 62    8.13             \n",
              "4 0.01    78.184215              67          2787    ⋯ 67    8.52             \n",
              "5 0.01     7.097109              68          3013    ⋯ 68    7.87             \n",
              "6 0.01    79.679367              66          1989    ⋯ 66    9.20             \n",
              "  Diphtheria HIV.AIDS GDP       Population thinness..1.19.years\n",
              "1 65         0.1      584.25921 33736494   17.2                \n",
              "2 62         0.1      612.69651   327582   17.5                \n",
              "3 64         0.1      631.74498 31731688   17.7                \n",
              "4 67         0.1      669.95900  3696958   17.9                \n",
              "5 68         0.1       63.53723  2978599   18.2                \n",
              "6 66         0.1      553.32894  2883167   18.4                \n",
              "  thinness.5.9.years Income.composition.of.resources Schooling\n",
              "1 17.3               0.479                           10.1     \n",
              "2 17.5               0.476                           10.0     \n",
              "3 17.7               0.470                            9.9     \n",
              "4 18.0               0.463                            9.8     \n",
              "5 18.2               0.454                            9.5     \n",
              "6 18.4               0.448                            9.2     "
            ]
          },
          "metadata": {}
        }
      ]
    },
    {
      "cell_type": "markdown",
      "source": [
        "## Referências úteis para este Lab\n",
        "\n",
        "Você pode acessar soluções na internet, mas tenha certeza de que os códigos que encontrar façam sentido para você.\n",
        "\n",
        "Você também pode achar útil e fácil consultar, além das notas de aula as seguintes referências:\n",
        "\n",
        "* [Quick-R](https://www.statmethods.net/)\n",
        "* [R Tutorial](https://www.r-tutor.com/)\n",
        "* [R for Data Science](https://r4ds.had.co.nz/)\n"
      ],
      "metadata": {
        "id": "l3Uep1e9iG6w"
      }
    },
    {
      "cell_type": "markdown",
      "source": [
        "# Seu Código aqui."
      ],
      "metadata": {
        "id": "CfVO2n2sjbvi"
      }
    },
    {
      "cell_type": "code",
      "source": [
        "# Seu código\n",
        "install.packages(\"installr\")\n",
        "library(installr)\n",
        "install.packages('tidyverse', dependencies=TRUE)\n",
        "\n"
      ],
      "metadata": {
        "id": "uQD17dhzaGTs",
        "outputId": "0047075c-8190-4143-e25b-b3aafc06091d",
        "colab": {
          "base_uri": "https://localhost:8080/"
        }
      },
      "execution_count": null,
      "outputs": [
        {
          "output_type": "stream",
          "name": "stderr",
          "text": [
            "Installing package into ‘/usr/local/lib/R/site-library’\n",
            "(as ‘lib’ is unspecified)\n",
            "\n",
            "Installing package into ‘/usr/local/lib/R/site-library’\n",
            "(as ‘lib’ is unspecified)\n",
            "\n"
          ]
        }
      ]
    },
    {
      "cell_type": "code",
      "source": [],
      "metadata": {
        "id": "vWgJKUxsP1i2"
      },
      "execution_count": null,
      "outputs": []
    },
    {
      "cell_type": "code",
      "source": [
        "library(tidyverse)\n",
        "library(ggplot2)\n",
        "idh = read.csv('https://github.com/Rogerio-mack/Visualizacao-de-Dados-em-Python/raw/main/data/Life_Expectancy_Data.csv')\n",
        "expecVida = idh %>% select(Country, Year, Life.expectancy) %>% filter(Country == \"Brazil\")\n",
        "\n",
        "ggplot(expecVida, aes(x=Life.expectancy, y=Year)) + geom_point()\n",
        "head(expecVida)"
      ],
      "metadata": {
        "id": "SmYQRQ2SP1n3",
        "outputId": "e67f6bd0-23a7-46a6-9b8e-9893dc867bf9",
        "colab": {
          "base_uri": "https://localhost:8080/",
          "height": 706
        }
      },
      "execution_count": null,
      "outputs": [
        {
          "output_type": "display_data",
          "data": {
            "text/html": [
              "<table class=\"dataframe\">\n",
              "<caption>A data.frame: 6 × 3</caption>\n",
              "<thead>\n",
              "\t<tr><th></th><th scope=col>Country</th><th scope=col>Year</th><th scope=col>Life.expectancy</th></tr>\n",
              "\t<tr><th></th><th scope=col>&lt;chr&gt;</th><th scope=col>&lt;int&gt;</th><th scope=col>&lt;dbl&gt;</th></tr>\n",
              "</thead>\n",
              "<tbody>\n",
              "\t<tr><th scope=row>1</th><td>Brazil</td><td>2015</td><td>75.0</td></tr>\n",
              "\t<tr><th scope=row>2</th><td>Brazil</td><td>2014</td><td>74.8</td></tr>\n",
              "\t<tr><th scope=row>3</th><td>Brazil</td><td>2013</td><td>74.7</td></tr>\n",
              "\t<tr><th scope=row>4</th><td>Brazil</td><td>2012</td><td>74.5</td></tr>\n",
              "\t<tr><th scope=row>5</th><td>Brazil</td><td>2011</td><td>74.1</td></tr>\n",
              "\t<tr><th scope=row>6</th><td>Brazil</td><td>2010</td><td>73.8</td></tr>\n",
              "</tbody>\n",
              "</table>\n"
            ],
            "text/markdown": "\nA data.frame: 6 × 3\n\n| <!--/--> | Country &lt;chr&gt; | Year &lt;int&gt; | Life.expectancy &lt;dbl&gt; |\n|---|---|---|---|\n| 1 | Brazil | 2015 | 75.0 |\n| 2 | Brazil | 2014 | 74.8 |\n| 3 | Brazil | 2013 | 74.7 |\n| 4 | Brazil | 2012 | 74.5 |\n| 5 | Brazil | 2011 | 74.1 |\n| 6 | Brazil | 2010 | 73.8 |\n\n",
            "text/latex": "A data.frame: 6 × 3\n\\begin{tabular}{r|lll}\n  & Country & Year & Life.expectancy\\\\\n  & <chr> & <int> & <dbl>\\\\\n\\hline\n\t1 & Brazil & 2015 & 75.0\\\\\n\t2 & Brazil & 2014 & 74.8\\\\\n\t3 & Brazil & 2013 & 74.7\\\\\n\t4 & Brazil & 2012 & 74.5\\\\\n\t5 & Brazil & 2011 & 74.1\\\\\n\t6 & Brazil & 2010 & 73.8\\\\\n\\end{tabular}\n",
            "text/plain": [
              "  Country Year Life.expectancy\n",
              "1 Brazil  2015 75.0           \n",
              "2 Brazil  2014 74.8           \n",
              "3 Brazil  2013 74.7           \n",
              "4 Brazil  2012 74.5           \n",
              "5 Brazil  2011 74.1           \n",
              "6 Brazil  2010 73.8           "
            ]
          },
          "metadata": {}
        },
        {
          "output_type": "display_data",
          "data": {
            "text/plain": [
              "plot without title"
            ],
            "image/png": "[encoded data removed]"
          },
          "metadata": {
            "image/png": {
              "width": 420,
              "height": 420
            }
          }
        }
      ]
    },
    {
      "cell_type": "code",
      "source": [
        "#Nesse gráfico podemos observar como foi a evolução de expectativa de vida no Brasil ao longo dos anos. No ano 2000 houve um \"ponto fora da curva\" visto que 75 anos seria a expectativa mais alta da década até então\n",
        "#Após o ano 2000 pudemos observar uma evolução gradativa da expectativa de vida brasileira, até chegar em seu ápice (2015) com a expectativa de vida de 75 anos, repetindo o melhor dado registrado no século"
      ],
      "metadata": {
        "id": "-JX0JkspaBvL"
      },
      "execution_count": null,
      "outputs": []
    },
    {
      "cell_type": "code",
      "source": [
        "library(tidyverse)\n",
        "library(ggplot2)\n",
        "idh = read.csv('https://github.com/Rogerio-mack/Visualizacao-de-Dados-em-Python/raw/main/data/Life_Expectancy_Data.csv')\n",
        "mortInfant = idh %>% select(Country, Year, infant.deaths) %>% filter(Country == \"Brazil\")\n",
        "\n",
        "ggplot(mortInfant, aes(x=infant.deaths, y=Year)) + geom_point() + ggtitle('Mortalidade Infantil x Ano') +\n",
        "xlab(\"Número de mortos\") +\n",
        "ylab(\"Ano\")\n",
        "head(mortInfant)"
      ],
      "metadata": {
        "colab": {
          "base_uri": "https://localhost:8080/",
          "height": 706
        },
        "id": "G1ETfIW2a-YC",
        "outputId": "1d2927dd-32a0-4f07-d7db-9938dcbe09d1"
      },
      "execution_count": null,
      "outputs": [
        {
          "output_type": "display_data",
          "data": {
            "text/html": [
              "<table class=\"dataframe\">\n",
              "<caption>A data.frame: 6 × 3</caption>\n",
              "<thead>\n",
              "\t<tr><th></th><th scope=col>Country</th><th scope=col>Year</th><th scope=col>infant.deaths</th></tr>\n",
              "\t<tr><th></th><th scope=col>&lt;chr&gt;</th><th scope=col>&lt;int&gt;</th><th scope=col>&lt;int&gt;</th></tr>\n",
              "</thead>\n",
              "<tbody>\n",
              "\t<tr><th scope=row>1</th><td>Brazil</td><td>2015</td><td>42</td></tr>\n",
              "\t<tr><th scope=row>2</th><td>Brazil</td><td>2014</td><td>44</td></tr>\n",
              "\t<tr><th scope=row>3</th><td>Brazil</td><td>2013</td><td>46</td></tr>\n",
              "\t<tr><th scope=row>4</th><td>Brazil</td><td>2012</td><td>49</td></tr>\n",
              "\t<tr><th scope=row>5</th><td>Brazil</td><td>2011</td><td>51</td></tr>\n",
              "\t<tr><th scope=row>6</th><td>Brazil</td><td>2010</td><td>54</td></tr>\n",
              "</tbody>\n",
              "</table>\n"
            ],
            "text/markdown": "\nA data.frame: 6 × 3\n\n| <!--/--> | Country &lt;chr&gt; | Year &lt;int&gt; | infant.deaths &lt;int&gt; |\n|---|---|---|---|\n| 1 | Brazil | 2015 | 42 |\n| 2 | Brazil | 2014 | 44 |\n| 3 | Brazil | 2013 | 46 |\n| 4 | Brazil | 2012 | 49 |\n| 5 | Brazil | 2011 | 51 |\n| 6 | Brazil | 2010 | 54 |\n\n",
            "text/latex": "A data.frame: 6 × 3\n\\begin{tabular}{r|lll}\n  & Country & Year & infant.deaths\\\\\n  & <chr> & <int> & <int>\\\\\n\\hline\n\t1 & Brazil & 2015 & 42\\\\\n\t2 & Brazil & 2014 & 44\\\\\n\t3 & Brazil & 2013 & 46\\\\\n\t4 & Brazil & 2012 & 49\\\\\n\t5 & Brazil & 2011 & 51\\\\\n\t6 & Brazil & 2010 & 54\\\\\n\\end{tabular}\n",
            "text/plain": [
              "  Country Year infant.deaths\n",
              "1 Brazil  2015 42           \n",
              "2 Brazil  2014 44           \n",
              "3 Brazil  2013 46           \n",
              "4 Brazil  2012 49           \n",
              "5 Brazil  2011 51           \n",
              "6 Brazil  2010 54           "
            ]
          },
          "metadata": {}
        },
        {
          "output_type": "display_data",
          "data": {
            "text/plain": [
              "plot without title"
            ],
            "image/png": "[encoded data removed]"
          },
          "metadata": {
            "image/png": {
              "width": 420,
              "height": 420
            }
          }
        }
      ]
    },
    {
      "cell_type": "code",
      "source": [
        "##No gráfico acima conseguimos visualizar a queda de mortalidade infantil ao decorrer dos anos aqui no Brasil, em 2000 cerca de 111 crianças morreram no ano, já em 2015 esse mesmo número diminuiu para 42, uma diminuição de 62%"
      ],
      "metadata": {
        "id": "rP32XfDhX7Nv"
      },
      "execution_count": null,
      "outputs": []
    }
  ]
}